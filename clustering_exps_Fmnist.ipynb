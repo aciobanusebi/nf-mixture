{
  "nbformat": 4,
  "nbformat_minor": 0,
  "metadata": {
    "colab": {
      "name": "clustering-exps-Fmnist.ipynb",
      "provenance": [],
      "collapsed_sections": [],
      "toc_visible": true
    },
    "kernelspec": {
      "name": "python3",
      "display_name": "Python 3"
    },
    "language_info": {
      "name": "python"
    }
  },
  "cells": [
    {
      "cell_type": "code",
      "metadata": {
        "colab": {
          "base_uri": "https://localhost:8080/"
        },
        "id": "KMVxeD4vXAZB",
        "outputId": "3f073b5f-366b-4e90-ddc8-12d568e6cce2"
      },
      "source": [
        "#@title Don't forget to upload usps.h5\n",
        "\n",
        "import numpy as np\n",
        "from sklearn import metrics\n",
        "\n",
        "def purity_score(y_true, y_pred): # from https://stackoverflow.com/a/51672699/7947996; in [0,1]; 0-bad,1-good\n",
        "    # compute contingency matrix (also called confusion matrix)\n",
        "    contingency_matrix = metrics.cluster.contingency_matrix(y_true, y_pred)\n",
        "    # return purity\n",
        "    return np.sum(np.amax(contingency_matrix, axis=0)) / np.sum(contingency_matrix) \n",
        "\n",
        "from sklearn.metrics.cluster import adjusted_rand_score # in [0,1]; 0-bad,1-good\n",
        "from sklearn.metrics.cluster import normalized_mutual_info_score # in [0,1]; 0-bad,1-good\n",
        "\n",
        "!pip install coclust\n",
        "from coclust.evaluation.external import accuracy # in [0,1]; 0-bad,1-good\n",
        "\n",
        "def get_data_20news():\n",
        "  import tensorflow as tf\n",
        "  from sklearn.datasets import fetch_20newsgroups\n",
        "  from sklearn.feature_extraction.text import TfidfVectorizer\n",
        "\n",
        "  _20news = fetch_20newsgroups(subset=\"all\")\n",
        "  data = _20news.data\n",
        "  target = _20news.target\n",
        "\n",
        "  vectorizer = TfidfVectorizer(max_features=2000)\n",
        "  data = vectorizer.fit_transform(data)\n",
        "  data = data.toarray()\n",
        "\n",
        "  return data, target\n",
        "\n",
        "\n",
        "def get_data_mnist():\n",
        "  import tensorflow as tf\n",
        "  mnist = tf.keras.datasets.mnist\n",
        "  (x_train, y_train),(x_test, y_test) = mnist.load_data()\n",
        "\n",
        "  x_train = np.concatenate((x_train,x_test))\n",
        "  y_train = np.concatenate((y_train,y_test))\n",
        "\n",
        "  real_labels = y_train\n",
        "\n",
        "  # # indices = np.isin(y_train,range(number_of_dist))\n",
        "  # x_train = x_train[indices]\n",
        "  # y_train = y_train[indices]\n",
        "\n",
        "  samples = (x_train.reshape((x_train.shape[0],-1))/255.).astype(np.float32)\n",
        "  \n",
        "  return samples, real_labels\n",
        "\n",
        "\n",
        "def get_data_fmnist():\n",
        "  import tensorflow as tf\n",
        "  mnist = tf.keras.datasets.fashion_mnist\n",
        "  (x_train, y_train),(x_test, y_test) = mnist.load_data()\n",
        "\n",
        "  x_train = np.concatenate((x_train,x_test))\n",
        "  y_train = np.concatenate((y_train,y_test))\n",
        "\n",
        "  real_labels = y_train\n",
        "\n",
        "  # # indices = np.isin(y_train,range(number_of_dist))\n",
        "  # x_train = x_train[indices]\n",
        "  # y_train = y_train[indices]\n",
        "\n",
        "  samples = (x_train.reshape((x_train.shape[0],-1))/255.).astype(np.float32)\n",
        "  \n",
        "  return samples, real_labels\n",
        "\n",
        "def get_data_usps():\n",
        "  import h5py\n",
        "  path = \"./usps.h5\"\n",
        "  with h5py.File(path, 'r') as hf:\n",
        "    train = hf.get('train')\n",
        "    X_tr = train.get('data')[:]\n",
        "    y_tr = train.get('target')[:]\n",
        "    test = hf.get('test')\n",
        "    X_te = test.get('data')[:]\n",
        "    y_te = test.get('target')[:]\n",
        "\n",
        "  samples = np.concatenate((X_tr,X_te))\n",
        "  real_labels = np.concatenate((y_tr,y_te))\n",
        "  return samples, real_labels\n",
        "\n",
        "original_data_name = \"fmnist\" # @param [\"mnist\", \"fmnist\", \"20news\", \"usps\"]\n",
        "\n",
        "if original_data_name == \"mnist\":\n",
        "    samples, real_labels = get_data_mnist()\n",
        "elif original_data_name == \"fmnist\":\n",
        "    samples, real_labels = get_data_fmnist()\n",
        "elif original_data_name == \"20news\":\n",
        "    samples, real_labels = get_data_20news()\n",
        "elif original_data_name == \"usps\":\n",
        "    samples, real_labels = get_data_usps()\n",
        "  \n",
        "k = len(np.unique(real_labels))\n",
        "n_init = 10"
      ],
      "execution_count": 1,
      "outputs": [
        {
          "output_type": "stream",
          "text": [
            "WARNING: Ignoring invalid distribution -ymatbridge (c:\\users\\sebi\\anaconda3\\lib\\site-packages)\n",
            "WARNING: Ignoring invalid distribution -umpy (c:\\users\\sebi\\anaconda3\\lib\\site-packages)\n",
            "WARNING: Ignoring invalid distribution -ymatbridge (c:\\users\\sebi\\anaconda3\\lib\\site-packages)\n",
            "WARNING: Ignoring invalid distribution -umpy (c:\\users\\sebi\\anaconda3\\lib\\site-packages)\n",
            "WARNING: Ignoring invalid distribution -ymatbridge (c:\\users\\sebi\\anaconda3\\lib\\site-packages)\n",
            "WARNING: Ignoring invalid distribution -umpy (c:\\users\\sebi\\anaconda3\\lib\\site-packages)\n",
            "WARNING: Ignoring invalid distribution -ymatbridge (c:\\users\\sebi\\anaconda3\\lib\\site-packages)\n",
            "WARNING: Ignoring invalid distribution -umpy (c:\\users\\sebi\\anaconda3\\lib\\site-packages)\n",
            "WARNING: Ignoring invalid distribution -ymatbridge (c:\\users\\sebi\\anaconda3\\lib\\site-packages)\n",
            "WARNING: Ignoring invalid distribution -umpy (c:\\users\\sebi\\anaconda3\\lib\\site-packages)\n",
            "WARNING: Ignoring invalid distribution -ymatbridge (c:\\users\\sebi\\anaconda3\\lib\\site-packages)\n",
            "WARNING: Ignoring invalid distribution -umpy (c:\\users\\sebi\\anaconda3\\lib\\site-packages)\n",
            "C:\\Users\\Sebi\\anaconda3\\lib\\site-packages\\sklearn\\utils\\linear_assignment_.py:22: FutureWarning: The linear_assignment_ module is deprecated in 0.21 and will be removed from 0.23. Use scipy.optimize.linear_sum_assignment instead.\n",
            "  FutureWarning)\n"
          ],
          "name": "stderr"
        },
        {
          "output_type": "stream",
          "text": [
            "Requirement already satisfied: coclust in c:\\users\\sebi\\anaconda3\\lib\\site-packages (0.2.1)\n",
            "Requirement already satisfied: scikit-learn in c:\\users\\sebi\\anaconda3\\lib\\site-packages (from coclust) (0.22.2)\n",
            "Requirement already satisfied: scipy in c:\\users\\sebi\\anaconda3\\lib\\site-packages (from coclust) (1.4.1)\n",
            "Requirement already satisfied: numpy in c:\\users\\sebi\\anaconda3\\lib\\site-packages (from coclust) (1.18.5)\n",
            "Requirement already satisfied: joblib>=0.11 in c:\\users\\sebi\\anaconda3\\lib\\site-packages (from scikit-learn->coclust) (1.0.1)\n"
          ],
          "name": "stdout"
        }
      ]
    },
    {
      "cell_type": "markdown",
      "metadata": {
        "id": "UM2n39n8x0fE"
      },
      "source": [
        "### Random"
      ]
    },
    {
      "cell_type": "code",
      "metadata": {
        "colab": {
          "base_uri": "https://localhost:8080/"
        },
        "id": "ExRzemEgvWeb",
        "outputId": "4b6e39fc-924b-4bf7-b3b0-9e4758ccb464"
      },
      "source": [
        "predicted_random = np.random.randint(k,size=len(real_labels))\n",
        "\n",
        "print(purity_score(real_labels,predicted_random))\n",
        "print(adjusted_rand_score(real_labels,predicted_random))\n",
        "print(normalized_mutual_info_score(real_labels,predicted_random))\n",
        "print(accuracy(real_labels,predicted_random))"
      ],
      "execution_count": 2,
      "outputs": [
        {
          "output_type": "stream",
          "text": [
            "0.1065\n",
            "2.381189318612532e-05\n",
            "0.0002966918446209515\n",
            "0.10611428571428572\n"
          ],
          "name": "stdout"
        },
        {
          "output_type": "stream",
          "text": [
            "C:\\Users\\Sebi\\anaconda3\\lib\\site-packages\\sklearn\\utils\\linear_assignment_.py:128: FutureWarning: The linear_assignment function is deprecated in 0.21 and will be removed from 0.23. Use scipy.optimize.linear_sum_assignment instead.\n",
            "  FutureWarning)\n"
          ],
          "name": "stderr"
        }
      ]
    },
    {
      "cell_type": "markdown",
      "metadata": {
        "id": "vE1OLiiGx3Tl"
      },
      "source": [
        "### k-means"
      ]
    },
    {
      "cell_type": "code",
      "metadata": {
        "id": "3fSvnYVhb930",
        "colab": {
          "base_uri": "https://localhost:8080/"
        },
        "outputId": "0432025a-c645-4560-c2d7-302431a9bf53"
      },
      "source": [
        "from sklearn.cluster import KMeans\n",
        "import numpy as np\n",
        "X = samples\n",
        "kmeans = KMeans(n_clusters=k,n_init=n_init).fit(X)\n",
        "predicted_km = kmeans.predict(X)\n",
        "\n",
        "print(purity_score(real_labels,predicted_km))\n",
        "print(adjusted_rand_score(real_labels,predicted_km))\n",
        "print(normalized_mutual_info_score(real_labels,predicted_km))\n",
        "print(accuracy(real_labels,predicted_km))"
      ],
      "execution_count": 3,
      "outputs": [
        {
          "output_type": "stream",
          "text": [
            "0.5546285714285715\n",
            "0.34812705737755\n",
            "0.5119649719039909\n",
            "0.4740714285714286\n"
          ],
          "name": "stdout"
        },
        {
          "output_type": "stream",
          "text": [
            "C:\\Users\\Sebi\\anaconda3\\lib\\site-packages\\sklearn\\utils\\linear_assignment_.py:128: FutureWarning: The linear_assignment function is deprecated in 0.21 and will be removed from 0.23. Use scipy.optimize.linear_sum_assignment instead.\n",
            "  FutureWarning)\n"
          ],
          "name": "stderr"
        }
      ]
    },
    {
      "cell_type": "code",
      "metadata": {
        "id": "e9XY7cupOKay",
        "colab": {
          "base_uri": "https://localhost:8080/"
        },
        "outputId": "919e1968-ee8a-422c-bf1b-fdf1510f8048"
      },
      "source": [
        "import sklearn.metrics\n",
        "matrix = sklearn.metrics.cluster.contingency_matrix(real_labels, predicted_km)\n",
        "print(matrix)\n",
        "print(matrix/matrix.sum(axis=1, keepdims=True))"
      ],
      "execution_count": 4,
      "outputs": [
        {
          "output_type": "stream",
          "text": [
            "[[1845  202    0    0  229  662   33   27    3 3999]\n",
            " [ 158   72    0    0 6307  172    0    3    0  288]\n",
            " [2135 4094    1    0   13  559   30   30    1  137]\n",
            " [ 649   59    0    0 3714  599   10    7    0 1962]\n",
            " [1232 4229    0    0  182  288   34   19    0 1016]\n",
            " [  36    0  306  547    1 4439   13    4 1652    2]\n",
            " [2436 2272    1    0   72  870   18   76    6 1249]\n",
            " [   0    0   28  943    0  582    0    1 5446    0]\n",
            " [ 281  336    7   72   32  565 2855 2552  274   26]\n",
            " [  40    1 3117 3444    3  200    2    4  187    2]]\n",
            "[[2.63571429e-01 2.88571429e-02 0.00000000e+00 0.00000000e+00\n",
            "  3.27142857e-02 9.45714286e-02 4.71428571e-03 3.85714286e-03\n",
            "  4.28571429e-04 5.71285714e-01]\n",
            " [2.25714286e-02 1.02857143e-02 0.00000000e+00 0.00000000e+00\n",
            "  9.01000000e-01 2.45714286e-02 0.00000000e+00 4.28571429e-04\n",
            "  0.00000000e+00 4.11428571e-02]\n",
            " [3.05000000e-01 5.84857143e-01 1.42857143e-04 0.00000000e+00\n",
            "  1.85714286e-03 7.98571429e-02 4.28571429e-03 4.28571429e-03\n",
            "  1.42857143e-04 1.95714286e-02]\n",
            " [9.27142857e-02 8.42857143e-03 0.00000000e+00 0.00000000e+00\n",
            "  5.30571429e-01 8.55714286e-02 1.42857143e-03 1.00000000e-03\n",
            "  0.00000000e+00 2.80285714e-01]\n",
            " [1.76000000e-01 6.04142857e-01 0.00000000e+00 0.00000000e+00\n",
            "  2.60000000e-02 4.11428571e-02 4.85714286e-03 2.71428571e-03\n",
            "  0.00000000e+00 1.45142857e-01]\n",
            " [5.14285714e-03 0.00000000e+00 4.37142857e-02 7.81428571e-02\n",
            "  1.42857143e-04 6.34142857e-01 1.85714286e-03 5.71428571e-04\n",
            "  2.36000000e-01 2.85714286e-04]\n",
            " [3.48000000e-01 3.24571429e-01 1.42857143e-04 0.00000000e+00\n",
            "  1.02857143e-02 1.24285714e-01 2.57142857e-03 1.08571429e-02\n",
            "  8.57142857e-04 1.78428571e-01]\n",
            " [0.00000000e+00 0.00000000e+00 4.00000000e-03 1.34714286e-01\n",
            "  0.00000000e+00 8.31428571e-02 0.00000000e+00 1.42857143e-04\n",
            "  7.78000000e-01 0.00000000e+00]\n",
            " [4.01428571e-02 4.80000000e-02 1.00000000e-03 1.02857143e-02\n",
            "  4.57142857e-03 8.07142857e-02 4.07857143e-01 3.64571429e-01\n",
            "  3.91428571e-02 3.71428571e-03]\n",
            " [5.71428571e-03 1.42857143e-04 4.45285714e-01 4.92000000e-01\n",
            "  4.28571429e-04 2.85714286e-02 2.85714286e-04 5.71428571e-04\n",
            "  2.67142857e-02 2.85714286e-04]]\n"
          ],
          "name": "stdout"
        }
      ]
    },
    {
      "cell_type": "markdown",
      "metadata": {
        "id": "57lT0F8Mx4Fh"
      },
      "source": [
        "### GMM"
      ]
    },
    {
      "cell_type": "code",
      "metadata": {
        "id": "xxjlKBYscsE8",
        "colab": {
          "base_uri": "https://localhost:8080/"
        },
        "outputId": "6beabdbb-2c04-4bcf-b0d6-4939a2959f92"
      },
      "source": [
        "import numpy as np\n",
        "from sklearn.mixture import GaussianMixture\n",
        "X = samples\n",
        "gm = GaussianMixture(n_components=k,n_init=n_init).fit(X)\n",
        "predicted_gmm = gm.predict(X)\n",
        "\n",
        "print(purity_score(real_labels,predicted_gmm))\n",
        "print(adjusted_rand_score(real_labels,predicted_gmm))\n",
        "print(normalized_mutual_info_score(real_labels,predicted_gmm))\n",
        "print(accuracy(real_labels,predicted_gmm))"
      ],
      "execution_count": 5,
      "outputs": [
        {
          "output_type": "stream",
          "text": [
            "0.5587428571428571\n",
            "0.3728084346212849\n",
            "0.5365879871727295\n",
            "0.5396142857142857\n"
          ],
          "name": "stdout"
        },
        {
          "output_type": "stream",
          "text": [
            "C:\\Users\\Sebi\\anaconda3\\lib\\site-packages\\sklearn\\utils\\linear_assignment_.py:128: FutureWarning: The linear_assignment function is deprecated in 0.21 and will be removed from 0.23. Use scipy.optimize.linear_sum_assignment instead.\n",
            "  FutureWarning)\n"
          ],
          "name": "stderr"
        }
      ]
    },
    {
      "cell_type": "code",
      "metadata": {
        "colab": {
          "base_uri": "https://localhost:8080/"
        },
        "id": "ljFdEG-YOUpb",
        "outputId": "cb1ea57e-0b77-4d09-a6f5-f579d61f782c"
      },
      "source": [
        "import sklearn.metrics\n",
        "matrix = sklearn.metrics.cluster.contingency_matrix(real_labels, predicted_km)\n",
        "print(matrix)\n",
        "print(matrix/matrix.sum(axis=1, keepdims=True))"
      ],
      "execution_count": 6,
      "outputs": [
        {
          "output_type": "stream",
          "text": [
            "[[1845  202    0    0  229  662   33   27    3 3999]\n",
            " [ 158   72    0    0 6307  172    0    3    0  288]\n",
            " [2135 4094    1    0   13  559   30   30    1  137]\n",
            " [ 649   59    0    0 3714  599   10    7    0 1962]\n",
            " [1232 4229    0    0  182  288   34   19    0 1016]\n",
            " [  36    0  306  547    1 4439   13    4 1652    2]\n",
            " [2436 2272    1    0   72  870   18   76    6 1249]\n",
            " [   0    0   28  943    0  582    0    1 5446    0]\n",
            " [ 281  336    7   72   32  565 2855 2552  274   26]\n",
            " [  40    1 3117 3444    3  200    2    4  187    2]]\n",
            "[[2.63571429e-01 2.88571429e-02 0.00000000e+00 0.00000000e+00\n",
            "  3.27142857e-02 9.45714286e-02 4.71428571e-03 3.85714286e-03\n",
            "  4.28571429e-04 5.71285714e-01]\n",
            " [2.25714286e-02 1.02857143e-02 0.00000000e+00 0.00000000e+00\n",
            "  9.01000000e-01 2.45714286e-02 0.00000000e+00 4.28571429e-04\n",
            "  0.00000000e+00 4.11428571e-02]\n",
            " [3.05000000e-01 5.84857143e-01 1.42857143e-04 0.00000000e+00\n",
            "  1.85714286e-03 7.98571429e-02 4.28571429e-03 4.28571429e-03\n",
            "  1.42857143e-04 1.95714286e-02]\n",
            " [9.27142857e-02 8.42857143e-03 0.00000000e+00 0.00000000e+00\n",
            "  5.30571429e-01 8.55714286e-02 1.42857143e-03 1.00000000e-03\n",
            "  0.00000000e+00 2.80285714e-01]\n",
            " [1.76000000e-01 6.04142857e-01 0.00000000e+00 0.00000000e+00\n",
            "  2.60000000e-02 4.11428571e-02 4.85714286e-03 2.71428571e-03\n",
            "  0.00000000e+00 1.45142857e-01]\n",
            " [5.14285714e-03 0.00000000e+00 4.37142857e-02 7.81428571e-02\n",
            "  1.42857143e-04 6.34142857e-01 1.85714286e-03 5.71428571e-04\n",
            "  2.36000000e-01 2.85714286e-04]\n",
            " [3.48000000e-01 3.24571429e-01 1.42857143e-04 0.00000000e+00\n",
            "  1.02857143e-02 1.24285714e-01 2.57142857e-03 1.08571429e-02\n",
            "  8.57142857e-04 1.78428571e-01]\n",
            " [0.00000000e+00 0.00000000e+00 4.00000000e-03 1.34714286e-01\n",
            "  0.00000000e+00 8.31428571e-02 0.00000000e+00 1.42857143e-04\n",
            "  7.78000000e-01 0.00000000e+00]\n",
            " [4.01428571e-02 4.80000000e-02 1.00000000e-03 1.02857143e-02\n",
            "  4.57142857e-03 8.07142857e-02 4.07857143e-01 3.64571429e-01\n",
            "  3.91428571e-02 3.71428571e-03]\n",
            " [5.71428571e-03 1.42857143e-04 4.45285714e-01 4.92000000e-01\n",
            "  4.28571429e-04 2.85714286e-02 2.85714286e-04 5.71428571e-04\n",
            "  2.67142857e-02 2.85714286e-04]]\n"
          ],
          "name": "stdout"
        }
      ]
    },
    {
      "cell_type": "code",
      "metadata": {
        "id": "UOjm81-zyy3q"
      },
      "source": [
        ""
      ],
      "execution_count": 6,
      "outputs": []
    }
  ]
}